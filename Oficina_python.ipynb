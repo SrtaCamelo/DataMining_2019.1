{
  "nbformat": 4,
  "nbformat_minor": 0,
  "metadata": {
    "colab": {
      "name": "Oficina.ipynb",
      "version": "0.3.2",
      "provenance": [],
      "collapsed_sections": []
    },
    "kernelspec": {
      "name": "python3",
      "display_name": "Python 3"
    }
  },
  "cells": [
    {
      "cell_type": "markdown",
      "metadata": {
        "id": "a41D6KT-l9Ld",
        "colab_type": "text"
      },
      "source": [
        "#Oficina Python\n",
        "##Com Larissa Feliciana e Raissa Camelo"
      ]
    },
    {
      "cell_type": "markdown",
      "metadata": {
        "id": "TLfXdF0hv1SD",
        "colab_type": "text"
      },
      "source": [
        "#Primeiros Comandos\n",
        "###ENTRADA E SAÍDA DE DADOS\n",
        "\n"
      ]
    },
    {
      "cell_type": "code",
      "metadata": {
        "id": "pRsvPkRnvzy2",
        "colab_type": "code",
        "outputId": "c49ae084-67b6-49db-db66-2bc071475728",
        "colab": {
          "base_uri": "https://localhost:8080/",
          "height": 34
        }
      },
      "source": [
        "#SAÍDA\n",
        "print('0lá, Mundo!')"
      ],
      "execution_count": 0,
      "outputs": [
        {
          "output_type": "stream",
          "text": [
            "0lá, Mundo!\n"
          ],
          "name": "stdout"
        }
      ]
    },
    {
      "cell_type": "code",
      "metadata": {
        "id": "bIltMWxOvDh9",
        "colab_type": "code",
        "colab": {}
      },
      "source": [
        "#ENTRADA\n",
        "input(\"Digite seu nome: \")"
      ],
      "execution_count": 0,
      "outputs": []
    },
    {
      "cell_type": "markdown",
      "metadata": {
        "id": "vOCWUqYT4GWV",
        "colab_type": "text"
      },
      "source": [
        "# Operações com Dados Numéricos\n",
        "![alt text](https://i.imgur.com/vr896eA.jpg)"
      ]
    },
    {
      "cell_type": "code",
      "metadata": {
        "id": "bg4GDeGw4F4-",
        "colab_type": "code",
        "colab": {}
      },
      "source": [
        "#OPERAÇÕES BÁSICAS\n",
        "soma = 2+2\n",
        "potencia = 5**2\n",
        "divisao = 3/2\n",
        "\n",
        "print(soma)\n",
        "print(potencia)\n",
        "print(divisao)"
      ],
      "execution_count": 0,
      "outputs": []
    },
    {
      "cell_type": "code",
      "metadata": {
        "id": "KMi5b4G8DBnp",
        "colab_type": "code",
        "colab": {}
      },
      "source": [
        "#MATH\n"
      ],
      "execution_count": 0,
      "outputs": []
    },
    {
      "cell_type": "markdown",
      "metadata": {
        "id": "cv7BqPM8O17K",
        "colab_type": "text"
      },
      "source": [
        "# PRÁTICA 1\n",
        "Solicite dois valores ao usuário *x* e *y* e imprima z, para **z = (x+y)²**"
      ]
    },
    {
      "cell_type": "code",
      "metadata": {
        "id": "toK7bXg2PHFO",
        "colab_type": "code",
        "colab": {}
      },
      "source": [
        ""
      ],
      "execution_count": 0,
      "outputs": []
    },
    {
      "cell_type": "markdown",
      "metadata": {
        "id": "FohZQJVjX1pp",
        "colab_type": "text"
      },
      "source": [
        "# PRÁTICA 2\n",
        "\n",
        "Faça um Programa que converta metros para centímetros."
      ]
    },
    {
      "cell_type": "code",
      "metadata": {
        "id": "ugLZ_JvSYEZM",
        "colab_type": "code",
        "colab": {}
      },
      "source": [
        ""
      ],
      "execution_count": 0,
      "outputs": []
    },
    {
      "cell_type": "markdown",
      "metadata": {
        "id": "gf4STgd3Yjqi",
        "colab_type": "text"
      },
      "source": [
        "# PRÁTICA 3\n",
        "Faça um Programa que peça a temperatura em graus Farenheit, transforme e mostre a temperatura em graus Celsius.\n",
        "C = (5 * (F-32) / 9)."
      ]
    },
    {
      "cell_type": "code",
      "metadata": {
        "id": "7z2R9FN9YmgQ",
        "colab_type": "code",
        "colab": {}
      },
      "source": [
        ""
      ],
      "execution_count": 0,
      "outputs": []
    },
    {
      "cell_type": "markdown",
      "metadata": {
        "id": "VHPhfDH7ZIAc",
        "colab_type": "text"
      },
      "source": [
        "# PRÁTICA 4\n",
        "\n",
        "Tendo como dados de entrada a altura de uma pessoa, construa um algoritmo que calcule seu peso ideal, usando a seguinte fórmula: (72.7*altura) - 58\n"
      ]
    },
    {
      "cell_type": "code",
      "metadata": {
        "id": "XNQjYFeLZJ7A",
        "colab_type": "code",
        "colab": {}
      },
      "source": [
        ""
      ],
      "execution_count": 0,
      "outputs": []
    },
    {
      "cell_type": "markdown",
      "metadata": {
        "id": "wG9XcKpW2a1i",
        "colab_type": "text"
      },
      "source": [
        "#Textos e Caractéres (STRINGS)\n",
        "Uma string é uma sequência de caracteres simples"
      ]
    },
    {
      "cell_type": "code",
      "metadata": {
        "id": "lvjKQ7Vj2VaQ",
        "colab_type": "code",
        "colab": {}
      },
      "source": [
        "nome = \"Larissa\"\n",
        "sobrenome = \"Feliciana\"\n",
        "nome_completo = nome + \" \" + sobrenome\n",
        "print(nome_completo)"
      ],
      "execution_count": 0,
      "outputs": []
    },
    {
      "cell_type": "markdown",
      "metadata": {
        "id": "LB7MRWEyN3Hx",
        "colab_type": "text"
      },
      "source": [
        "![alt text](https://i.imgur.com/j9QWYbK.jpg)"
      ]
    },
    {
      "cell_type": "code",
      "metadata": {
        "id": "XBTfFReDDRET",
        "colab_type": "code",
        "colab": {}
      },
      "source": [
        "#Outras funções para strings"
      ],
      "execution_count": 0,
      "outputs": []
    },
    {
      "cell_type": "markdown",
      "metadata": {
        "id": "b_4V-MI28oc_",
        "colab_type": "text"
      },
      "source": [
        "# PRÁTICA 5\n",
        "\n",
        "Peça o nome do usuário como entrada e então mostre na tela uma saudação para o usuário utilizando seu nome.\n",
        "\n",
        "Exemplo:\n",
        "\n",
        "entrada: *Larissa*\n",
        "\n",
        "saída: *Olá, Larissa*\n"
      ]
    },
    {
      "cell_type": "code",
      "metadata": {
        "id": "MBv7dBJ-8o5m",
        "colab_type": "code",
        "colab": {}
      },
      "source": [
        "#COMECE O SEU CÓDIGO NA LINHA ABAIXO\n"
      ],
      "execution_count": 0,
      "outputs": []
    },
    {
      "cell_type": "markdown",
      "metadata": {
        "id": "lT3zv22BJlfe",
        "colab_type": "text"
      },
      "source": [
        "# Listas\n",
        "Lista é um conjunto sequencial de valores, onde cada valor é identificado através de um índice."
      ]
    },
    {
      "cell_type": "code",
      "metadata": {
        "id": "wnOtLLgjKGlv",
        "colab_type": "code",
        "outputId": "fca136dc-6f76-408e-8bf0-fcdcab85c656",
        "colab": {
          "base_uri": "https://localhost:8080/",
          "height": 34
        }
      },
      "source": [
        "frutas = [\"banana\",\"uva\", \"maça\", \"morango\"]\n",
        "numeros_primos = [1, 2, 3, 5, 7, 11] #...\n",
        "nomes_femininos = [\"Ana\", \"Maria\", \"Larissa\"]\n",
        "minhas_caracteristicas = [\"Larissa\", 21, 1.64, 66]\n"
      ],
      "execution_count": 0,
      "outputs": [
        {
          "output_type": "stream",
          "text": [
            "['banana', 'uva', 'maça', 'morango']\n"
          ],
          "name": "stdout"
        }
      ]
    },
    {
      "cell_type": "code",
      "metadata": {
        "id": "OCRxqiWIKGr7",
        "colab_type": "code",
        "colab": {}
      },
      "source": [
        "#índices \n",
        "print(\"Tamanho da lista é: \" + str(len(frutas)))\n",
        "print(frutas[0])\n",
        "print(frutas[1])\n",
        "print(frutas[1:3])\n",
        "\n"
      ],
      "execution_count": 0,
      "outputs": []
    },
    {
      "cell_type": "markdown",
      "metadata": {
        "id": "lppQu54hOVol",
        "colab_type": "text"
      },
      "source": [
        "![alt text](https://i.imgur.com/lh0z0xm.jpg)"
      ]
    },
    {
      "cell_type": "code",
      "metadata": {
        "id": "HjARQRb0Mv-a",
        "colab_type": "code",
        "outputId": "35b68050-118e-4a6b-ec1c-8faecfced70e",
        "colab": {
          "base_uri": "https://localhost:8080/",
          "height": 103
        }
      },
      "source": [
        "##Funções\n",
        "print(frutas)\n",
        "print(numeros_primos)\n",
        "\n",
        "#ordenar lista\n",
        "print(sorted(frutas))\n",
        "print(sorted(numeros_primos, reverse=True))\n",
        "\n",
        "#Soma de todos os valores de uma lista númerica\n",
        "print(sum(numeros_primos))\n",
        "\n",
        "#Obter valor máximo e mínimo\n",
        "print(min(numeros_primos))\n",
        "print(max(numeros_primos))\n"
      ],
      "execution_count": 0,
      "outputs": [
        {
          "output_type": "stream",
          "text": [
            "['banana', 'uva', 'maça', 'morango']\n",
            "[1, 2, 3, 5, 7, 11]\n",
            "29\n",
            "1\n",
            "11\n"
          ],
          "name": "stdout"
        }
      ]
    },
    {
      "cell_type": "code",
      "metadata": {
        "id": "3OH8GnT4NSng",
        "colab_type": "code",
        "colab": {}
      },
      "source": [
        "lista_cores = [] #Lista inicia vazia\n",
        "\n",
        "#Adiciona valor na lista\n",
        "lista_cores.append(\"azul\")\n",
        "lista_cores.append(\"amarelo\")\n",
        "lista_cores.append(\"verde\")\n",
        "print(lista_cores)\n",
        "\n",
        "#Remove elemento pelo valor\n",
        "lista_cores.remove(\"amarelo\")\n",
        "\n",
        "#Remove elemento pela posição\n",
        "lista_cores.pop(1)\n"
      ],
      "execution_count": 0,
      "outputs": []
    },
    {
      "cell_type": "markdown",
      "metadata": {
        "id": "o8zWIbwddDDl",
        "colab_type": "text"
      },
      "source": [
        "# PRÁTICA 6\n",
        "\n",
        "Dada a lista L = [5, 7, 2, 9, 4, 1, 3], escreva um programa que imprima as seguintes informações:\n",
        "a) tamanho da lista. \\\n",
        "b) maior valor da lista. \\\n",
        "c) menor valor da lista. \\\n",
        "d) soma de todos os elementos da lista. \\\n",
        "e) lista em ordem crescente. \\\n",
        "f) lista em ordem decrescente \\"
      ]
    },
    {
      "cell_type": "code",
      "metadata": {
        "id": "0et8XJ5Zjpt5",
        "colab_type": "code",
        "outputId": "4b5c4187-ff98-4b03-8403-5392da9dcc60",
        "colab": {
          "base_uri": "https://localhost:8080/",
          "height": 34
        }
      },
      "source": [
        "L = [1,2,3]\n",
        "print(L.reverse())"
      ],
      "execution_count": 0,
      "outputs": [
        {
          "output_type": "stream",
          "text": [
            "None\n"
          ],
          "name": "stdout"
        }
      ]
    },
    {
      "cell_type": "markdown",
      "metadata": {
        "id": "Q91CgNNvakXd",
        "colab_type": "text"
      },
      "source": [
        "\n",
        "\n",
        "# PRÁTICA 7\n",
        "\n",
        "Faça um Programa que leia um vetor de 5 números inteiros e mostre-os em ordem inversa."
      ]
    },
    {
      "cell_type": "code",
      "metadata": {
        "id": "9uPP1ugWWHeY",
        "colab_type": "code",
        "outputId": "f7e01f25-1a18-4840-89e1-2ef5c2f1bcfd",
        "colab": {
          "base_uri": "https://localhost:8080/",
          "height": 137
        }
      },
      "source": [
        "lista = []\n",
        "lista.append(int(input(\"N: \")))\n",
        "lista.append(int(input(\"N: \")))\n",
        "lista.append(int(input(\"N: \")))\n",
        "lista.append(int(input(\"N: \")))\n",
        "lista.append(int(input(\"N: \")))\n",
        "\n",
        "print(lista)\n",
        "print(sorted(lista, reverse=True))"
      ],
      "execution_count": 0,
      "outputs": [
        {
          "output_type": "stream",
          "text": [
            "N: 2\n",
            "N: 1\n",
            "N: 4\n",
            "N: 5\n",
            "N: 6\n",
            "[2, 1, 4, 5, 6]\n",
            "[6, 5, 4, 2, 1]\n"
          ],
          "name": "stdout"
        }
      ]
    },
    {
      "cell_type": "markdown",
      "metadata": {
        "id": "6G4-wrns60Aj",
        "colab_type": "text"
      },
      "source": [
        "#Lógica\n",
        "\n",
        "Verdade (True)\\\n",
        "Falso (False)"
      ]
    },
    {
      "cell_type": "code",
      "metadata": {
        "id": "CsvL6Zot6uSO",
        "colab_type": "code",
        "outputId": "06aa9471-0f7b-4fe5-fa5e-b48da2144c37",
        "colab": {
          "base_uri": "https://localhost:8080/",
          "height": 102
        }
      },
      "source": [
        "print(1==1)\n",
        "print(\"l\"!=\"e\")\n",
        "print(1>2)\n",
        "print(len(\"python\")>=1)\n",
        "print(\"PYTHON\".islower())"
      ],
      "execution_count": 0,
      "outputs": [
        {
          "output_type": "stream",
          "text": [
            "True\n",
            "True\n",
            "False\n",
            "True\n",
            "False\n"
          ],
          "name": "stdout"
        }
      ]
    },
    {
      "cell_type": "markdown",
      "metadata": {
        "id": "geuU87M8PYC1",
        "colab_type": "text"
      },
      "source": [
        "# Estrutura de Decisão\n",
        "Comandos que permitem alterar o curso do fluxo de execução de um programa, de acordo\n",
        "com o valor (Verdadeiro/Falso) de um teste lógico."
      ]
    },
    {
      "cell_type": "code",
      "metadata": {
        "id": "EO9bztKqrgMj",
        "colab_type": "code",
        "outputId": "025c2a80-f478-4217-a6a8-22844025f92a",
        "colab": {
          "base_uri": "https://localhost:8080/",
          "height": 51
        }
      },
      "source": [
        "idade = int(input(\"Digite sua idade para tirar a carteira de motorista: \"))\n",
        "\n",
        "if idade >= 18: #SE\n",
        "  print(\"Você já pode tirar sua carteira.\")\n",
        "\n",
        "else: #SENÃO\n",
        "  print(\"Ainda faltam \" + str(18-idade) + \" anos para você tirar sua carteira.\")"
      ],
      "execution_count": 0,
      "outputs": [
        {
          "output_type": "stream",
          "text": [
            "Digite sua idade para tirar a carteira de motorista: 15\n",
            "Ainda faltam 3 anos para você tirar sua carteira.\n"
          ],
          "name": "stdout"
        }
      ]
    },
    {
      "cell_type": "code",
      "metadata": {
        "id": "nqC33wxFGoSp",
        "colab_type": "code",
        "outputId": "b8b09bc5-fd6f-4bb4-856a-5891c5d60b4a",
        "colab": {
          "base_uri": "https://localhost:8080/",
          "height": 51
        }
      },
      "source": [
        "numero = int(input(\"Digite um número: \"))\n",
        "\n",
        "if numero>0:\n",
        "  print(\"Positivo\")\n",
        "  \n",
        "elif numero == 0:\n",
        "  print(\"Zero\")\n",
        "  \n",
        "else:\n",
        "  print(\"Negativo\")"
      ],
      "execution_count": 0,
      "outputs": [
        {
          "output_type": "stream",
          "text": [
            "Digite um número: -2\n",
            "Negativo\n"
          ],
          "name": "stdout"
        }
      ]
    },
    {
      "cell_type": "markdown",
      "metadata": {
        "id": "Bwh_2cD5qoEM",
        "colab_type": "text"
      },
      "source": [
        "# PRÁTICA 8\n",
        "A partir de uma lista de notas de um aluno calcule a média e imprima na tela se o mesmo foi aprovado ou reprovado. (Nessário média 7 para ser aprovado)\n",
        "\n",
        "Ex:\n",
        "lista = [7, 7, 7]  \\\n",
        "saída: \"Parabéns! você ficou com média 7 e foi aprovado.\""
      ]
    },
    {
      "cell_type": "code",
      "metadata": {
        "id": "kB-4Ebn0t3nQ",
        "colab_type": "code",
        "colab": {}
      },
      "source": [
        ""
      ],
      "execution_count": 0,
      "outputs": []
    },
    {
      "cell_type": "markdown",
      "metadata": {
        "id": "8Peeym3Ft4Qq",
        "colab_type": "text"
      },
      "source": [
        "# Projeto 1 (Calculadora)\n",
        "\n",
        "O usuário deverá digitar uma operação.\n",
        "A calculadora deverá calcular esse resultado e exibir para o usuário a expressão e seu resultado.\\\n",
        " ex: \\\n",
        " entrada: \"2 + 2\" \\\n",
        " saída:     \"2+2=4\"\n",
        " \n",
        " **dicas:**\n",
        " * Lembre que a entrada do input é sempre uma string\n",
        " * Você precisa separar a string de entrada em unidades menores para obter os dois valores e o operador\n",
        " * Diferentes operadores podem ser inseridos pelo usuário, então você deve estar pronto para alterar o fluxo do programa de acordo com o operador inserido"
      ]
    },
    {
      "cell_type": "code",
      "metadata": {
        "id": "1cJFS--61Cv5",
        "colab_type": "code",
        "colab": {}
      },
      "source": [
        ""
      ],
      "execution_count": 0,
      "outputs": []
    },
    {
      "cell_type": "markdown",
      "metadata": {
        "id": "c5tXV2Kk1DHY",
        "colab_type": "text"
      },
      "source": [
        "# Laços de Repetição\n",
        " Comando para executar uma mesma sequência de comandos várias vezes, associada a uma condição que determinada quando se deve continuar a execução e quando o loop deve ser interrompido.\n",
        " \n",
        " for\n",
        " \n",
        " while"
      ]
    },
    {
      "cell_type": "code",
      "metadata": {
        "id": "E8Frj0bcRWb4",
        "colab_type": "code",
        "outputId": "1f8415ed-668d-4826-dd9e-0ec6e78356de",
        "colab": {
          "base_uri": "https://localhost:8080/",
          "height": 357
        }
      },
      "source": [
        "x = 0\n",
        "while x < 20:\n",
        "  print(x)\n",
        "  x = x + 1"
      ],
      "execution_count": 0,
      "outputs": [
        {
          "output_type": "stream",
          "text": [
            "0\n",
            "1\n",
            "2\n",
            "3\n",
            "4\n",
            "5\n",
            "6\n",
            "7\n",
            "8\n",
            "9\n",
            "10\n",
            "11\n",
            "12\n",
            "13\n",
            "14\n",
            "15\n",
            "16\n",
            "17\n",
            "18\n",
            "19\n"
          ],
          "name": "stdout"
        }
      ]
    },
    {
      "cell_type": "code",
      "metadata": {
        "id": "j8cqRpY-51tf",
        "colab_type": "code",
        "outputId": "7c82de6e-bf8c-4896-e947-7c8fac7087b2",
        "colab": {
          "base_uri": "https://localhost:8080/",
          "height": 52
        }
      },
      "source": [
        "#SOMAR MÉDIA DE UMA LISTA\n",
        "\n",
        "def sum1(lista):\n",
        "  soma = 0\n",
        "  \n",
        "  for i in range(len(lista)):\n",
        "    soma = soma + lista[i]\n",
        "    \n",
        "  return soma\n",
        "\n",
        "lista = [1,2,3,4]\n",
        "print(sum(lista))\n",
        "print(sum1(lista))"
      ],
      "execution_count": 0,
      "outputs": [
        {
          "output_type": "stream",
          "text": [
            "10\n",
            "10\n"
          ],
          "name": "stdout"
        }
      ]
    },
    {
      "cell_type": "code",
      "metadata": {
        "id": "kp26lITZrhV-",
        "colab_type": "code",
        "outputId": "b4c8b941-78ec-4d00-b014-c07bee847db1",
        "colab": {
          "base_uri": "https://localhost:8080/",
          "height": 34
        }
      },
      "source": [
        "def soma(x,y):\n",
        "  return x+y\n",
        "\n",
        "print(soma(2,1))"
      ],
      "execution_count": 0,
      "outputs": [
        {
          "output_type": "stream",
          "text": [
            "3\n"
          ],
          "name": "stdout"
        }
      ]
    },
    {
      "cell_type": "code",
      "metadata": {
        "id": "pKByKI5Lr_Zo",
        "colab_type": "code",
        "outputId": "c6774afa-90a8-4ef8-d2be-dab8970ff462",
        "colab": {
          "base_uri": "https://localhost:8080/",
          "height": 34
        }
      },
      "source": [
        "def media_impar(lista):\n",
        "  impar = []\n",
        "  for i in lista:\n",
        "    if i % 2 == 1:\n",
        "      impar.append(i)\n",
        "  return sum(impar)/len(impar)\n",
        "x = media_impar([1,2,1,2,1,2])\n",
        "print(x)"
      ],
      "execution_count": 0,
      "outputs": [
        {
          "output_type": "stream",
          "text": [
            "1.0\n"
          ],
          "name": "stdout"
        }
      ]
    },
    {
      "cell_type": "markdown",
      "metadata": {
        "id": "cXOvUbhrknQH",
        "colab_type": "text"
      },
      "source": [
        "# PRÁTICA 9\n",
        "\n",
        "Solicite ao usuário dez números e os exiba em ordem descrecente. \n",
        "\n",
        "Dica: Utilize listas e laços de repetição para isso."
      ]
    },
    {
      "cell_type": "code",
      "metadata": {
        "id": "sILvO43ykxMO",
        "colab_type": "code",
        "outputId": "d43b3634-2069-4f64-df86-4168de3634f3",
        "colab": {
          "base_uri": "https://localhost:8080/",
          "height": 209
        }
      },
      "source": [
        "lista = []\n",
        "\n",
        "for i in range(10):\n",
        "  lista.append(int(input(\"N: \")))\n",
        "  \n",
        "print(sorted(lista, reverse=True))"
      ],
      "execution_count": 0,
      "outputs": [
        {
          "output_type": "stream",
          "text": [
            "N: 1\n",
            "N: 2\n",
            "N: 3\n",
            "N: 4\n",
            "N: 5\n",
            "N: 6\n",
            "N: 7\n",
            "N: 8\n",
            "N: 9\n",
            "N: 10\n",
            "[10, 9, 8, 7, 6, 5, 4, 3, 2, 1]\n"
          ],
          "name": "stdout"
        }
      ]
    },
    {
      "cell_type": "markdown",
      "metadata": {
        "id": "J3L64L4sKQfI",
        "colab_type": "text"
      },
      "source": [
        "[Parte 2](https://colab.research.google.com/drive/1BdULAvGg5Ru4Wt9uvSLMYxifYFeAnafO)\n"
      ]
    }
  ]
}