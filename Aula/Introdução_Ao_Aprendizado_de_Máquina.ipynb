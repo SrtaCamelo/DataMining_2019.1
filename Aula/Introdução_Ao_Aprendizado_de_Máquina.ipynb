{
  "nbformat": 4,
  "nbformat_minor": 0,
  "metadata": {
    "colab": {
      "name": "Introdução Ao Aprendizado de Máquina.ipynb",
      "version": "0.3.2",
      "provenance": [],
      "toc_visible": true
    },
    "kernelspec": {
      "name": "python3",
      "display_name": "Python 3"
    }
  },
  "cells": [
    {
      "cell_type": "markdown",
      "metadata": {
        "id": "yQmg6VdZoLfX",
        "colab_type": "text"
      },
      "source": [
        "## Introdução ao Aprendizado de Máquina\n",
        "Hoje vamos aprender alguns conceitos básicos sobre aprendizado de máquina como pré-processamento e validação de experimentos."
      ]
    },
    {
      "cell_type": "markdown",
      "metadata": {
        "id": "cX0iYITSoU32",
        "colab_type": "text"
      },
      "source": [
        "## Abrindo e Pré- Processando o Data-set"
      ]
    },
    {
      "cell_type": "code",
      "metadata": {
        "id": "lV8C-EPZomkc",
        "colab_type": "code",
        "colab": {}
      },
      "source": [
        ""
      ],
      "execution_count": 0,
      "outputs": []
    },
    {
      "cell_type": "markdown",
      "metadata": {
        "id": "eVrXWAFKoVKU",
        "colab_type": "text"
      },
      "source": [
        "## Escolhendo O classificador"
      ]
    },
    {
      "cell_type": "markdown",
      "metadata": {
        "id": "ADx1gqQlofhd",
        "colab_type": "text"
      },
      "source": [
        "## Analisando os Resultados"
      ]
    },
    {
      "cell_type": "code",
      "metadata": {
        "id": "0YJz5--toI1u",
        "colab_type": "code",
        "colab": {}
      },
      "source": [
        ""
      ],
      "execution_count": 0,
      "outputs": []
    }
  ]
}