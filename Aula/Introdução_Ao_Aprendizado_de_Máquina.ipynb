{
  "nbformat": 4,
  "nbformat_minor": 0,
  "metadata": {
    "colab": {
      "name": "Introdução Ao Aprendizado de Máquina.ipynb",
      "version": "0.3.2",
      "provenance": [],
      "toc_visible": true
    },
    "kernelspec": {
      "name": "python3",
      "display_name": "Python 3"
    }
  },
  "cells": [
    {
      "cell_type": "markdown",
      "metadata": {
        "id": "yQmg6VdZoLfX",
        "colab_type": "text"
      },
      "source": [
        "## Introdução ao Aprendizado de Máquina\n",
        "Hoje vamos aprender alguns conceitos básicos sobre aprendizado de máquina como pré-processamento e validação de experimentos."
      ]
    },
    {
      "cell_type": "code",
      "metadata": {
        "id": "wMOwJmnxreIx",
        "colab_type": "code",
        "colab": {
          "base_uri": "https://localhost:8080/",
          "height": 119
        },
        "outputId": "cbde410d-f979-4989-c04b-96be7b5d80e1"
      },
      "source": [
        "! git clone https://github.com/SrtaCamelo/DataMining_2019.1"
      ],
      "execution_count": 2,
      "outputs": [
        {
          "output_type": "stream",
          "text": [
            "Cloning into 'DataMining_2019.1'...\n",
            "remote: Enumerating objects: 21, done.\u001b[K\n",
            "remote: Counting objects: 100% (21/21), done.\u001b[K\n",
            "remote: Compressing objects: 100% (14/14), done.\u001b[K\n",
            "remote: Total 21 (delta 5), reused 21 (delta 5), pack-reused 0\u001b[K\n",
            "Unpacking objects: 100% (21/21), done.\n"
          ],
          "name": "stdout"
        }
      ]
    },
    {
      "cell_type": "markdown",
      "metadata": {
        "id": "cX0iYITSoU32",
        "colab_type": "text"
      },
      "source": [
        "## Abrindo e Pré- Processando o Data-set"
      ]
    },
    {
      "cell_type": "markdown",
      "metadata": {
        "id": "MDWlFxxasyIV",
        "colab_type": "text"
      },
      "source": [
        "### Abrindo em TXT O dataSet Iris\n",
        "Link do UCI\n",
        "https://archive.ics.uci.edu/ml/datasets/iris"
      ]
    },
    {
      "cell_type": "code",
      "metadata": {
        "id": "lV8C-EPZomkc",
        "colab_type": "code",
        "colab": {}
      },
      "source": [
        "path = \"DataMining_2019.1/Aula/DataSets/original/iris_dataSet.txt\"\n",
        "f = open(path,\"r\")\n",
        "text = f.read()\n",
        "print(text)"
      ],
      "execution_count": 0,
      "outputs": []
    },
    {
      "cell_type": "markdown",
      "metadata": {
        "id": "kY8a9UpBs3K1",
        "colab_type": "text"
      },
      "source": [
        "### Transformando o arquivo TXT em CSV"
      ]
    },
    {
      "cell_type": "code",
      "metadata": {
        "id": "0R88gjyFs8e3",
        "colab_type": "code",
        "colab": {}
      },
      "source": [
        "import csv\n",
        "\n",
        "def txt_2_csv(infile,outfile, header):\n",
        "    with open(outfile,'w') as csvfile:\n",
        "        filewriter = csv.writer(csvfile, delimiter=',',quotechar='|', quoting=csv.QUOTE_MINIMAL)\n",
        "        filewriter.writerow(header)\n",
        "    with open(infile) as infile, open(outfile, 'a') as outfile:\n",
        "        for line in infile:\n",
        "            outfile.write(line.replace(' ', ','))\n",
        "            \n",
        "\n",
        "filename = \"iris_csv.csv\"\n",
        "header = header = ['sepal length', 'sepal width','petal length', 'petal width','class']\n",
        "txt_2_csv(path,filename,header)"
      ],
      "execution_count": 0,
      "outputs": []
    },
    {
      "cell_type": "markdown",
      "metadata": {
        "id": "WUk2aosquJsX",
        "colab_type": "text"
      },
      "source": [
        "### Abrindo o novo CSV para realiza ro pré-processamento com o Pandas\n",
        "\n",
        "Link da biblioteca: https://pandas.pydata.org/\n",
        "\n",
        "Link de tutorial: https://medium.com/data-hackers/uma-introdu%C3%A7%C3%A3o-simples-ao-pandas-1e15eea37fa1\n",
        "\n",
        "Pandas: https://thispointer.com/select-rows-columns-by-name-or-index-in-dataframe-using-loc-iloc-python-pandas/"
      ]
    },
    {
      "cell_type": "code",
      "metadata": {
        "id": "9vab-oS_uHXu",
        "colab_type": "code",
        "colab": {
          "base_uri": "https://localhost:8080/",
          "height": 1105
        },
        "outputId": "3f08cc35-fb0a-4915-ec55-1c37f267a1e4"
      },
      "source": [
        "import pandas as pd\n",
        "data = pd.read_csv(filename)\n",
        "print(data)"
      ],
      "execution_count": 36,
      "outputs": [
        {
          "output_type": "stream",
          "text": [
            "     sepal length  sepal width  petal length  petal width           class\n",
            "0             5.1          3.5           1.4          0.2     Iris-setosa\n",
            "1             4.9          3.0           1.4          0.2     Iris-setosa\n",
            "2             4.7          3.2           1.3          0.2     Iris-setosa\n",
            "3             4.6          3.1           1.5          0.2     Iris-setosa\n",
            "4             5.0          3.6           1.4          0.2     Iris-setosa\n",
            "5             5.4          3.9           1.7          0.4     Iris-setosa\n",
            "6             4.6          3.4           1.4          0.3     Iris-setosa\n",
            "7             5.0          3.4           1.5          0.2     Iris-setosa\n",
            "8             4.4          2.9           1.4          0.2     Iris-setosa\n",
            "9             4.9          3.1           1.5          0.1     Iris-setosa\n",
            "10            5.4          3.7           1.5          0.2     Iris-setosa\n",
            "11            4.8          3.4           1.6          0.2     Iris-setosa\n",
            "12            4.8          3.0           1.4          0.1     Iris-setosa\n",
            "13            4.3          3.0           1.1          0.1     Iris-setosa\n",
            "14            5.8          4.0           1.2          0.2     Iris-setosa\n",
            "15            5.7          4.4           1.5          0.4     Iris-setosa\n",
            "16            5.4          3.9           1.3          0.4     Iris-setosa\n",
            "17            5.1          3.5           1.4          0.3     Iris-setosa\n",
            "18            5.7          3.8           1.7          0.3     Iris-setosa\n",
            "19            5.1          3.8           1.5          0.3     Iris-setosa\n",
            "20            5.4          3.4           1.7          0.2     Iris-setosa\n",
            "21            5.1          3.7           1.5          0.4     Iris-setosa\n",
            "22            4.6          3.6           1.0          0.2     Iris-setosa\n",
            "23            5.1          3.3           1.7          0.5     Iris-setosa\n",
            "24            4.8          3.4           1.9          0.2     Iris-setosa\n",
            "25            5.0          3.0           1.6          0.2     Iris-setosa\n",
            "26            5.0          3.4           1.6          0.4     Iris-setosa\n",
            "27            5.2          3.5           1.5          0.2     Iris-setosa\n",
            "28            5.2          3.4           1.4          0.2     Iris-setosa\n",
            "29            4.7          3.2           1.6          0.2     Iris-setosa\n",
            "..            ...          ...           ...          ...             ...\n",
            "120           6.9          3.2           5.7          2.3  Iris-virginica\n",
            "121           5.6          2.8           4.9          2.0  Iris-virginica\n",
            "122           7.7          2.8           6.7          2.0  Iris-virginica\n",
            "123           6.3          2.7           4.9          1.8  Iris-virginica\n",
            "124           6.7          3.3           5.7          2.1  Iris-virginica\n",
            "125           7.2          3.2           6.0          1.8  Iris-virginica\n",
            "126           6.2          2.8           4.8          1.8  Iris-virginica\n",
            "127           6.1          3.0           4.9          1.8  Iris-virginica\n",
            "128           6.4          2.8           5.6          2.1  Iris-virginica\n",
            "129           7.2          3.0           5.8          1.6  Iris-virginica\n",
            "130           7.4          2.8           6.1          1.9  Iris-virginica\n",
            "131           7.9          3.8           6.4          2.0  Iris-virginica\n",
            "132           6.4          2.8           5.6          2.2  Iris-virginica\n",
            "133           6.3          2.8           5.1          1.5  Iris-virginica\n",
            "134           6.1          2.6           5.6          1.4  Iris-virginica\n",
            "135           7.7          3.0           6.1          2.3  Iris-virginica\n",
            "136           6.3          3.4           5.6          2.4  Iris-virginica\n",
            "137           6.4          3.1           5.5          1.8  Iris-virginica\n",
            "138           6.0          3.0           4.8          1.8  Iris-virginica\n",
            "139           6.9          3.1           5.4          2.1  Iris-virginica\n",
            "140           6.7          3.1           5.6          2.4  Iris-virginica\n",
            "141           6.9          3.1           5.1          2.3  Iris-virginica\n",
            "142           5.8          2.7           5.1          1.9  Iris-virginica\n",
            "143           6.8          3.2           5.9          2.3  Iris-virginica\n",
            "144           6.7          3.3           5.7          2.5  Iris-virginica\n",
            "145           6.7          3.0           5.2          2.3  Iris-virginica\n",
            "146           6.3          2.5           5.0          1.9  Iris-virginica\n",
            "147           6.5          3.0           5.2          2.0  Iris-virginica\n",
            "148           6.2          3.4           5.4          2.3  Iris-virginica\n",
            "149           5.9          3.0           5.1          1.8  Iris-virginica\n",
            "\n",
            "[150 rows x 5 columns]\n"
          ],
          "name": "stdout"
        }
      ]
    },
    {
      "cell_type": "markdown",
      "metadata": {
        "id": "55A3aPiFv8xJ",
        "colab_type": "text"
      },
      "source": [
        "### Pré- processando os dados\n",
        "A normalização dos dados é necessária para garantir que todos os dados estão em um padrão (escala). Isso é feito por dois motivos principais: Fazer com que so classificadores enxerguem todos os dados de uma maneira justa (nenhum é mais importante que o outro) \n",
        "A maioria dos algoritmos de aprendizado de máquina assumem que os dados estão padronizados quando vão gerar seus modelos.\n",
        "\n",
        "Link útil: https://minerandodados.com.br/index.php/2017/12/28/pre-processamento-standartization/\n",
        "\n",
        "A discretização se trata em converter atributos nominais para números, geralmente dados qualitativos ou atributos de classe. \n",
        "\n",
        "Link útil: https://medium.com/brasil-ai/antes-de-come%C3%A7armos-a-falar-sobre-tipos-de-aprendizados-que-veremos-no-pr%C3%B3ximo-artigo-%C3%A9-ea5b04685913\n",
        "\n",
        "Scikit Learn Preprocessing: https://scikitlearn.org/stable/modules/preprocessing.html"
      ]
    },
    {
      "cell_type": "code",
      "metadata": {
        "id": "wmknXeZZUuhS",
        "colab_type": "code",
        "colab": {}
      },
      "source": [
        "from sklearn import preprocessing\n",
        "\n",
        "#--------------Change Labels to numbers---------\n",
        "def numberize(column,tuple):\n",
        "    new_column = []\n",
        "    for item in column[1:]:\n",
        "        for name in tuple:\n",
        "            if item == name[1]:\n",
        "                new_column.append(name[0])\n",
        "    return new_column\n",
        "#----------------Discretie Atributes (numbered)----------------\n",
        "def discretizer2(data, column_to_disc,class_tuple):\n",
        "    new_column = numberize(data[column_to_disc],class_tuple)\n",
        "    new_column = pd.DataFrame({'clas':new_column})\n",
        "    data = data.merge(new_column, left_index=True, right_index=True)\n",
        "    del data[column_to_disc]\n",
        "    return data\n",
        "\n",
        "#-------------------Normalize 0 -1 range---------------\n",
        "def normalizer(data,atributes, final_column):\n",
        "    #normalized_df = (data - data.min()) / (data.max() - data.min())\n",
        "    for atribute in atributes:\n",
        "      \n",
        "        x = data[[atribute]].values.astype(float)\n",
        "        min_max_scaler = preprocessing.MinMaxScaler()\n",
        "        x_scaled = min_max_scaler.fit_transform(x)\n",
        "        df_normalized = pd.DataFrame(x_scaled)\n",
        "        #print(df_normalized)\n",
        "        data = data.merge(df_normalized,left_index=True, right_index=True)\n",
        "        del data[atribute]\n",
        "    data.columns = final_column\n",
        "    return data\n",
        "    #print(dt_amp)\n",
        "\n",
        "#---------------List to Tuple-------------------\n",
        "def tuplenizer(list):\n",
        "    outlist = []\n",
        "    for i in range(len(list)):\n",
        "        tuple = (i,list[i])\n",
        "        outlist.append(tuple)\n",
        "    return outlist\n",
        "#------------------Save Data Back into csv------------\n",
        "\n",
        "def saveCSV(data,filename):\n",
        "    data.to_csv(filename, header= True, mode='w',sep=',')\n",
        "    \n",
        "    \n",
        "atributes_to_normalize = ['sepal length', 'sepal width','petal length', 'petal width']\n",
        "final_column = ['class','sepal length','sepal width','petal length','petal width']\n",
        "classes = ['Iris-setosa','Iris-versicolor','Iris-virginica']\n",
        "\n",
        "filename_pdc = \"iris_csv_preprocessado.csv\"\n",
        "\n",
        "class_tuple = tuplenizer(classes)\n",
        "\n",
        "\n",
        "data = normalizer(data,atributes_to_normalize,final_column)\n",
        "data = discretizer2(data,'class',class_tuple)\n",
        "print(data)\n",
        "\n",
        "saveCSV(data,filename_pdc)"
      ],
      "execution_count": 0,
      "outputs": []
    },
    {
      "cell_type": "markdown",
      "metadata": {
        "id": "eVrXWAFKoVKU",
        "colab_type": "text"
      },
      "source": [
        "## Escolhendo O classificador\n",
        "\n",
        "https://scikit-learn.org/stable/supervised_learning.html#supervised-learning"
      ]
    },
    {
      "cell_type": "code",
      "metadata": {
        "id": "gvfPPbJ2bJtT",
        "colab_type": "code",
        "colab": {}
      },
      "source": [
        "#----------------Imports--------------------\n",
        "import pandas as pd\n",
        "from sklearn.tree import DecisionTreeClassifier\n",
        "from sklearn import svm\n",
        "from sklearn.naive_bayes import GaussianNB\n",
        "from sklearn.neighbors import KNeighborsClassifier\n",
        "from sklearn.metrics import accuracy_score\n",
        "from sklearn.preprocessing import StandardScaler\n",
        "from scipy import stats\n",
        "\n",
        "#--------------Structures for Score Validation----------\n",
        "tree_acuracy = []\n",
        "nb_acuracy = []\n",
        "knn_1_acuracy = []\n",
        "wknn_1_acuracy = []\n",
        "knn_3_acuracy = []\n",
        "wknn_3_acuracy = []\n",
        "knn_5_acuracy = []\n",
        "wknn_5_acuracy = []\n",
        "svm_linear_acuracy = []\n",
        "svm_rbf_acuracy = []\n",
        "\n",
        "\n",
        "def call_classifiers(x_train, y_train, x_test, y_test):\n",
        "#---------------Training Models-------------\n",
        "    #----------------Decision Tree----------\n",
        "\n",
        "    tree = DecisionTreeClassifier(criterion = \"entropy\", random_state = 100,\n",
        "    max_depth=3, min_samples_leaf=5)\n",
        "    tree.fit(x_train, y_train)\n",
        "    y_pred = tree.predict(x_test)\n",
        "    tree_accu = accuracy_score(y_test, y_pred)\n",
        "    tree_acuracy.append(tree_accu)\n",
        "\n",
        "    #---------------Naive Bayes-------------\n",
        "\n",
        "    gnb = GaussianNB()\n",
        "    gnb.fit(x_train,y_train)\n",
        "    gnb_predic = gnb.predict(x_test)\n",
        "    gnb_accu = accuracy_score(y_test,gnb_predic)\n",
        "    nb_acuracy.append(gnb_accu)\n",
        "\n",
        "    #--------------KNN - All variations-----\n",
        "\n",
        "    knn1 = KNeighborsClassifier(n_neighbors=1)\n",
        "    knn1.fit(x_train,y_train)\n",
        "    knn1_predic = knn1.predict(x_test)\n",
        "    knn1_accu = accuracy_score(y_test,knn1_predic)\n",
        "    knn_1_acuracy.append(knn1_accu)\n",
        "\n",
        "    knn3 = KNeighborsClassifier(n_neighbors=3)\n",
        "    knn3.fit(x_train,y_train)\n",
        "    knn3_predic = knn3.predict(x_test)\n",
        "    knn3_accu = accuracy_score(y_test,knn3_predic)\n",
        "    knn_3_acuracy.append(knn3_accu)\n",
        "\n",
        "    knn5 = KNeighborsClassifier(n_neighbors=5)\n",
        "    knn5.fit(x_train,y_train)\n",
        "    knn5_predic = knn5.predict(x_test)\n",
        "    knn5_accu = accuracy_score(y_test,knn5_predic)\n",
        "    knn_5_acuracy.append(knn5_accu)\n",
        "\n",
        "    #--------------WKNN - All variations-----\n",
        "    wknn1 = KNeighborsClassifier(n_neighbors=1,weights='distance')\n",
        "    wknn1.fit(x_train, y_train)\n",
        "    wknn1_predic = wknn1.predict(x_test)\n",
        "    wknn1_accu = accuracy_score(y_test, wknn1_predic)\n",
        "    wknn_1_acuracy.append(wknn1_accu)\n",
        "\n",
        "    wknn3 = KNeighborsClassifier(n_neighbors=3,weights='distance')\n",
        "    wknn3.fit(x_train, y_train)\n",
        "    wknn3_predic = wknn3.predict(x_test)\n",
        "    wknn3_accu = accuracy_score(y_test, wknn3_predic)\n",
        "    wknn_3_acuracy.append(wknn3_accu)\n",
        "\n",
        "    wknn5 = KNeighborsClassifier(n_neighbors=5,weights='distance')\n",
        "    wknn5.fit(x_train, y_train)\n",
        "    wknn5_predic = wknn5.predict(x_test)\n",
        "    wknn5_accu = accuracy_score(y_test, wknn5_predic)\n",
        "    wknn_5_acuracy.append(wknn5_accu)\n",
        "\n",
        "    #----------------SVM Linear--------------\n",
        "\n",
        "    svm_linear = svm.SVC(C=1, kernel='linear')\n",
        "    svm_linear.fit(x_train, y_train)\n",
        "    svm_predic = svm_linear.predict(x_test)\n",
        "    svml_accu = accuracy_score(y_test,svm_predic)\n",
        "    svm_linear_acuracy.append(svml_accu)\n",
        "\n",
        "\n",
        "    # ----------------SVM RBF--------------\n",
        "\n",
        "    svm_rbf = svm.SVC(C=1, kernel='rbf')\n",
        "    svm_rbf.fit(x_train, y_train)\n",
        "    svm_predic = svm_rbf.predict(x_test)\n",
        "\n",
        "    svmr_accu = accuracy_score(y_test, svm_predic)\n",
        "    svm_rbf_acuracy.append(svmr_accu)"
      ],
      "execution_count": 0,
      "outputs": []
    },
    {
      "cell_type": "markdown",
      "metadata": {
        "id": "BuMlZnXMbRLy",
        "colab_type": "text"
      },
      "source": [
        "## Dividindo os dados em conjunto de Treino, (Validação) e Teste\n",
        "### Primeiro vamos dividir os dados das classes"
      ]
    },
    {
      "cell_type": "code",
      "metadata": {
        "id": "lOgAa1W0gFL2",
        "colab_type": "code",
        "colab": {}
      },
      "source": [
        "#---------Split Class column from features-------------\n",
        "n_start = 0\n",
        "n_final = 3\n",
        "key =\"clas\"\n",
        "X = data.iloc[:,n_start:n_final]\n",
        "Y = data[key]"
      ],
      "execution_count": 0,
      "outputs": []
    },
    {
      "cell_type": "markdown",
      "metadata": {
        "id": "1mCtF8Lxban5",
        "colab_type": "text"
      },
      "source": [
        "### Método 70 - 30"
      ]
    },
    {
      "cell_type": "code",
      "metadata": {
        "id": "NlrcFnZSeC8s",
        "colab_type": "code",
        "colab": {
          "base_uri": "https://localhost:8080/",
          "height": 71
        },
        "outputId": "f67e87af-f5aa-4e24-f484-ab8f3abb159b"
      },
      "source": [
        "from sklearn.model_selection import train_test_split\n",
        "\n",
        "#print(Y)\n",
        "#----------Split Training from Test\n",
        "x_train, x_test,y_train, y_test = train_test_split(X, Y, test_size = 0.3, random_state = 0)\n",
        "call_classifiers(x_train, y_train, x_test, y_test)"
      ],
      "execution_count": 53,
      "outputs": [
        {
          "output_type": "stream",
          "text": [
            "/usr/local/lib/python3.6/dist-packages/sklearn/svm/base.py:196: FutureWarning: The default value of gamma will change from 'auto' to 'scale' in version 0.22 to account better for unscaled features. Set gamma explicitly to 'auto' or 'scale' to avoid this warning.\n",
            "  \"avoid this warning.\", FutureWarning)\n"
          ],
          "name": "stderr"
        }
      ]
    },
    {
      "cell_type": "markdown",
      "metadata": {
        "id": "NyRmVnPlbfGa",
        "colab_type": "text"
      },
      "source": [
        "### Mérodo K-Fold"
      ]
    },
    {
      "cell_type": "code",
      "metadata": {
        "id": "zdiftR27fvUm",
        "colab_type": "code",
        "colab": {}
      },
      "source": [
        "from sklearn.model_selection import KFold\n",
        "#---------Split Class column from features-------------\n",
        "\n",
        "\n",
        "kf = KFold(n_splits=10, shuffle=False)\n",
        "for train_index, test_index in kf.split(X):\n",
        "  x_train, x_test = X.iloc[train_index], X.iloc[test_index]\n",
        "  y_train, y_test = Y.iloc[train_index], Y.iloc[test_index]\n",
        "  call_classifiers(x_train, y_train, x_test, y_test)"
      ],
      "execution_count": 0,
      "outputs": []
    },
    {
      "cell_type": "markdown",
      "metadata": {
        "id": "ADx1gqQlofhd",
        "colab_type": "text"
      },
      "source": [
        "## Analisando os Resultados\n",
        "\n",
        "### A métrica principal utilizada para avaliar classificadores é a acurácia, porém existem outras que podem ser utilizadas.\n",
        "\n",
        "Acurácia Sklearn: https://scikit-learn.org/stable/modules/generated/sklearn.metrics.accuracy_score.html\n",
        "\n",
        "Metricas Sklearn: https://scikit-learn.org/stable/modules/model_evaluation.html"
      ]
    },
    {
      "cell_type": "code",
      "metadata": {
        "id": "0YJz5--toI1u",
        "colab_type": "code",
        "colab": {
          "base_uri": "https://localhost:8080/",
          "height": 1567
        },
        "outputId": "4264b2f9-8188-48e9-d7d0-849f36a5abec"
      },
      "source": [
        "def scores(acuracy_list):\n",
        "    #scaler = StandardScaler()\n",
        "    series = pd.Series(acuracy_list)\n",
        "    media = series.mean()\n",
        "    dp = series.std()\n",
        "    mediana = series.median()\n",
        "    return media,dp,mediana\n",
        "\n",
        "#---------Função Fuleca só pra gerar o Log-----\n",
        "def showStatistics(acuracy_list):\n",
        "    mean, dp, median = scores(acuracy_list[0])\n",
        "    print(\"###-------Algoritm:-----###\",acuracy_list[1],\"\\n\")\n",
        "    print(\"#---Mean: \", mean,\"\\n\")\n",
        "    print(\"#---DP:\", dp,\"\\n\")\n",
        "    print(\"#---Median:\", median,\"\\n\")\n",
        "\n",
        "List_ofLists =[(tree_acuracy,\"Tree\"),(nb_acuracy,\"Naive bayes\"),(knn_1_acuracy,\"KNN -1\"),(knn_3_acuracy,\"KNN -3\"),\n",
        "               (knn_5_acuracy, \"KNN -5\"),(wknn_1_acuracy,\"WKNN-1\"),(wknn_3_acuracy,\"WKNN-3\"),(wknn_5_acuracy,\"WKNN-5\"),\n",
        "               (svm_linear_acuracy,\"SVM-Linear\"),(svm_rbf_acuracy,\"SVM-RBF\")]\n",
        "for acuracy_list in List_ofLists:\n",
        "    #print(acuracy_list[0])\n",
        "    showStatistics(acuracy_list)"
      ],
      "execution_count": 54,
      "outputs": [
        {
          "output_type": "stream",
          "text": [
            "[1.0, 1.0, 1.0, 1.0, 0.8666666666666667, 0.8666666666666667, 0.8, 0.9333333333333333, 0.9333333333333333, 0.7333333333333333, 0.9285714285714286, 1.0]\n",
            "###-------Algoritm:-----### Tree \n",
            "\n",
            "#---Mean:  0.9218253968253968 \n",
            "\n",
            "#---DP: 0.08909768561110172 \n",
            "\n",
            "#---Median: 0.9333333333333333 \n",
            "\n",
            "[0.9333333333333333, 1.0, 1.0, 1.0, 0.7333333333333333, 1.0, 0.7333333333333333, 0.8666666666666667, 0.7333333333333333, 0.7333333333333333, 0.7857142857142857, 0.9333333333333333]\n",
            "###-------Algoritm:-----### Naive bayes \n",
            "\n",
            "#---Mean:  0.871031746031746 \n",
            "\n",
            "#---DP: 0.11963419702599834 \n",
            "\n",
            "#---Median: 0.9 \n",
            "\n",
            "[0.8666666666666667, 1.0, 1.0, 0.9333333333333333, 0.7333333333333333, 0.8, 0.8666666666666667, 0.8666666666666667, 0.8666666666666667, 0.8666666666666667, 0.7857142857142857, 0.8666666666666667]\n",
            "###-------Algoritm:-----### KNN -1 \n",
            "\n",
            "#---Mean:  0.8710317460317462 \n",
            "\n",
            "#---DP: 0.07894005964811089 \n",
            "\n",
            "#---Median: 0.8666666666666667 \n",
            "\n",
            "[0.9555555555555556, 1.0, 1.0, 1.0, 0.8666666666666667, 0.7333333333333333, 0.8666666666666667, 0.8666666666666667, 0.8666666666666667, 0.7333333333333333, 0.8571428571428571, 0.9555555555555556]\n",
            "###-------Algoritm:-----### KNN -3 \n",
            "\n",
            "#---Mean:  0.8917989417989419 \n",
            "\n",
            "#---DP: 0.09400313627874565 \n",
            "\n",
            "#---Median: 0.8666666666666667 \n",
            "\n",
            "[0.9333333333333333, 1.0, 1.0, 1.0, 0.8, 0.8, 0.8666666666666667, 0.9333333333333333, 0.8, 0.7333333333333333, 0.7857142857142857, 0.9333333333333333]\n",
            "###-------Algoritm:-----### KNN -5 \n",
            "\n",
            "#---Mean:  0.8821428571428572 \n",
            "\n",
            "#---DP: 0.09603830490523192 \n",
            "\n",
            "#---Median: 0.9 \n",
            "\n",
            "[0.8666666666666667, 1.0, 1.0, 0.9333333333333333, 0.7333333333333333, 0.8, 0.8666666666666667, 0.8666666666666667, 0.8666666666666667, 0.8666666666666667, 0.7857142857142857, 0.8666666666666667]\n",
            "###-------Algoritm:-----### WKNN-1 \n",
            "\n",
            "#---Mean:  0.8710317460317462 \n",
            "\n",
            "#---DP: 0.07894005964811089 \n",
            "\n",
            "#---Median: 0.8666666666666667 \n",
            "\n",
            "[0.9555555555555556, 1.0, 1.0, 1.0, 0.8, 0.8, 0.8666666666666667, 0.8666666666666667, 0.8666666666666667, 0.7333333333333333, 0.7857142857142857, 0.9555555555555556]\n",
            "###-------Algoritm:-----### WKNN-3 \n",
            "\n",
            "#---Mean:  0.885846560846561 \n",
            "\n",
            "#---DP: 0.09435972611074292 \n",
            "\n",
            "#---Median: 0.8666666666666667 \n",
            "\n",
            "[0.9333333333333333, 1.0, 1.0, 1.0, 0.8, 0.8, 0.8666666666666667, 0.9333333333333333, 0.8, 0.7333333333333333, 0.7142857142857143, 0.9333333333333333]\n",
            "###-------Algoritm:-----### WKNN-5 \n",
            "\n",
            "#---Mean:  0.8761904761904762 \n",
            "\n",
            "#---DP: 0.10440711272015653 \n",
            "\n",
            "#---Median: 0.9 \n",
            "\n",
            "[0.9111111111111111, 1.0, 1.0, 1.0, 0.5333333333333333, 0.6666666666666666, 0.6, 0.9333333333333333, 0.7333333333333333, 0.6666666666666666, 0.6428571428571429, 0.9111111111111111]\n",
            "###-------Algoritm:-----### SVM-Linear \n",
            "\n",
            "#---Mean:  0.7998677248677248 \n",
            "\n",
            "#---DP: 0.17536297797946077 \n",
            "\n",
            "#---Median: 0.8222222222222222 \n",
            "\n",
            "[0.8666666666666667, 1.0, 1.0, 1.0, 0.5333333333333333, 0.5333333333333333, 0.4666666666666667, 0.8666666666666667, 0.6666666666666666, 0.6, 0.35714285714285715, 0.8666666666666667]\n",
            "###-------Algoritm:-----### SVM-RBF \n",
            "\n",
            "#---Mean:  0.7297619047619048 \n",
            "\n",
            "#---DP: 0.22989448432466253 \n",
            "\n",
            "#---Median: 0.7666666666666666 \n",
            "\n"
          ],
          "name": "stdout"
        }
      ]
    }
  ]
}