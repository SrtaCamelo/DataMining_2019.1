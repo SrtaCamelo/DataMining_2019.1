{
  "nbformat": 4,
  "nbformat_minor": 0,
  "metadata": {
    "colab": {
      "name": "MachineLearning.ipynb",
      "version": "0.3.2",
      "provenance": []
    },
    "kernelspec": {
      "name": "python3",
      "display_name": "Python 3"
    }
  },
  "cells": [
    {
      "cell_type": "markdown",
      "metadata": {
        "id": "hEX7Eto8jted",
        "colab_type": "text"
      },
      "source": [
        "# Escolha um dataSet e Fique a vontade"
      ]
    },
    {
      "cell_type": "code",
      "metadata": {
        "id": "xvhb3vXShxCs",
        "colab_type": "code",
        "colab": {}
      },
      "source": [
        "!git clone https://github.com/SrtaCamelo/DataMining_2019.1"
      ],
      "execution_count": 0,
      "outputs": []
    }
  ]
}